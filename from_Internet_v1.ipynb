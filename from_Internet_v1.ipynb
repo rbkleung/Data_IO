{
  "nbformat": 4,
  "nbformat_minor": 0,
  "metadata": {
    "colab": {
      "name": "from_Internet_v1.ipynb",
      "provenance": [],
      "collapsed_sections": [],
      "toc_visible": true,
      "authorship_tag": "ABX9TyOLwTC2R9DK2Sv7dg2A/fNf",
      "include_colab_link": true
    },
    "kernelspec": {
      "name": "python3",
      "display_name": "Python 3"
    }
  },
  "cells": [
    {
      "cell_type": "markdown",
      "metadata": {
        "id": "view-in-github",
        "colab_type": "text"
      },
      "source": [
        "<a href=\"https://colab.research.google.com/github/rtheman/Data_IO/blob/master/from_Internet_v1.ipynb\" target=\"_parent\"><img src=\"https://colab.research.google.com/assets/colab-badge.svg\" alt=\"Open In Colab\"/></a>"
      ]
    },
    {
      "cell_type": "markdown",
      "metadata": {
        "id": "cUg076xhOzLx",
        "colab_type": "text"
      },
      "source": [
        "# Objective\n",
        "\n",
        "This notebook provide receipes for loading/extracting data into this Juypter Notebook (Google Colab), in this case, from **Internet**.\n",
        "\n",
        "**METHOD**.  This notebook uses `urllib` and `zipfile` library to download and unzip file respectively.\n",
        "\n",
        "**DATASET** from the [Taxi Trips dataset](https://data.cityofchicago.org/Transportation/Taxi-Trips/wrvz-psew) released by the City of Chicago.\n",
        "\n",
        "**PROCESS**\n",
        "1. Download data from Internet (Google Cloud Storage).\n",
        "1. Save to a temporary directory under Colab file system `/tmp/[tmp_folder_name]`.\n",
        "1. Unzip downloaded file with `zipfile` library.\n",
        "1. Save training dataset as a dataframe."
      ]
    },
    {
      "cell_type": "markdown",
      "metadata": {
        "id": "6TPfB2PUQTyK",
        "colab_type": "text"
      },
      "source": [
        "# Init. parameters and libraries"
      ]
    },
    {
      "cell_type": "code",
      "metadata": {
        "id": "mvIT9OXcQXOA",
        "colab_type": "code",
        "colab": {}
      },
      "source": [
        "import os\n",
        "from io import BytesIO\n",
        "\n",
        "import tempfile, urllib, zipfile\n",
        "\n",
        "import pandas as pd"
      ],
      "execution_count": null,
      "outputs": []
    },
    {
      "cell_type": "code",
      "metadata": {
        "id": "0-IZ1R9wOvpQ",
        "colab_type": "code",
        "colab": {}
      },
      "source": [
        "# file_name = \"http://stats.idre.ucla.edu/stat/data/binary.csv\"\n",
        "data_orig_path = \"https://storage.googleapis.com/artifacts.tfx-oss-public.appspot.com/datasets\"\n",
        "data_orig_filename = \"chicago_data.zip\"\n",
        "\n",
        "BASE_DIR = tempfile.mkdtemp()\n",
        "DATA_DIR = os.path.join(BASE_DIR, 'data')\n",
        "OUTPUT_DIR = os.path.join(BASE_DIR, 'chicago_taxi_output')\n",
        "\n",
        "TRAIN_DATA = os.path.join(DATA_DIR, 'train', 'data.csv')\n",
        "EVAL_DATA = os.path.join(DATA_DIR, 'eval', 'data.csv')\n",
        "SERVING_DATA = os.path.join(DATA_DIR, 'serving', 'data.csv')"
      ],
      "execution_count": null,
      "outputs": []
    },
    {
      "cell_type": "markdown",
      "metadata": {
        "id": "a_TN3BHxQhFp",
        "colab_type": "text"
      },
      "source": [
        "# 1.) Import Data"
      ]
    },
    {
      "cell_type": "markdown",
      "metadata": {
        "id": "H2mvjAjsGIMB",
        "colab_type": "text"
      },
      "source": [
        "## Download ZIP file from GCP and unzip it"
      ]
    },
    {
      "cell_type": "code",
      "metadata": {
        "id": "eNfI6C78HW3R",
        "colab_type": "code",
        "colab": {}
      },
      "source": [
        "data_orig_URL = os.path.join(data_orig_path, data_orig_filename)\n",
        "\n",
        "# Download the zip file from GCP and unzip it\n",
        "zip, headers = urllib.request.urlretrieve(data_orig_URL)\n",
        "zipfile.ZipFile(zip).extractall(BASE_DIR)\n",
        "zipfile.ZipFile(zip).close()"
      ],
      "execution_count": null,
      "outputs": []
    },
    {
      "cell_type": "markdown",
      "metadata": {
        "id": "RjP1SSpGLmc-",
        "colab_type": "text"
      },
      "source": [
        "## Read data into Dataframe"
      ]
    },
    {
      "cell_type": "code",
      "metadata": {
        "id": "IaHJkdN7QZv4",
        "colab_type": "code",
        "colab": {
          "base_uri": "https://localhost:8080/",
          "height": 245
        },
        "outputId": "d9dcca9a-0e52-4c59-a508-1cbed154a5cf"
      },
      "source": [
        "# df = pd.read_csv(file_name, header=0, index_col=0)\n",
        "df = pd.read_csv(TRAIN_DATA, header=0)\n",
        "df.info"
      ],
      "execution_count": null,
      "outputs": [
        {
          "output_type": "execute_result",
          "data": {
            "text/plain": [
              "<bound method DataFrame.info of       pickup_community_area   fare  ...  dropoff_community_area  tips\n",
              "0                        22  12.85  ...                    32.0   0.0\n",
              "1                        22   5.45  ...                    24.0   0.0\n",
              "2                        33   0.00  ...                    33.0   0.0\n",
              "3                        33  11.05  ...                     8.0   0.0\n",
              "4                        33  11.05  ...                     8.0   0.0\n",
              "...                     ...    ...  ...                     ...   ...\n",
              "9995                      8   3.25  ...                     8.0   0.0\n",
              "9996                      8   3.25  ...                     8.0   0.0\n",
              "9997                      8   4.25  ...                     8.0   0.0\n",
              "9998                     61   9.85  ...                    59.0   0.0\n",
              "9999                     61   5.65  ...                    58.0   0.0\n",
              "\n",
              "[10000 rows x 18 columns]>"
            ]
          },
          "metadata": {
            "tags": []
          },
          "execution_count": 4
        }
      ]
    },
    {
      "cell_type": "code",
      "metadata": {
        "id": "YI-mm0PrRIYf",
        "colab_type": "code",
        "colab": {
          "base_uri": "https://localhost:8080/",
          "height": 326
        },
        "outputId": "203c0eb4-6ced-4b51-d6d0-03b35542b160"
      },
      "source": [
        "df.dtypes"
      ],
      "execution_count": null,
      "outputs": [
        {
          "output_type": "execute_result",
          "data": {
            "text/plain": [
              "pickup_community_area       int64\n",
              "fare                      float64\n",
              "trip_start_month            int64\n",
              "trip_start_hour             int64\n",
              "trip_start_day              int64\n",
              "trip_start_timestamp        int64\n",
              "pickup_latitude           float64\n",
              "pickup_longitude          float64\n",
              "dropoff_latitude          float64\n",
              "dropoff_longitude         float64\n",
              "trip_miles                float64\n",
              "pickup_census_tract       float64\n",
              "dropoff_census_tract      float64\n",
              "payment_type               object\n",
              "company                    object\n",
              "trip_seconds                int64\n",
              "dropoff_community_area    float64\n",
              "tips                      float64\n",
              "dtype: object"
            ]
          },
          "metadata": {
            "tags": []
          },
          "execution_count": 5
        }
      ]
    },
    {
      "cell_type": "code",
      "metadata": {
        "id": "aMzNefB4RJoD",
        "colab_type": "code",
        "colab": {
          "base_uri": "https://localhost:8080/",
          "height": 671
        },
        "outputId": "f3df03f2-53d5-45c7-e6e0-235aaed2262e"
      },
      "source": [
        "df"
      ],
      "execution_count": null,
      "outputs": [
        {
          "output_type": "execute_result",
          "data": {
            "text/html": [
              "<div>\n",
              "<style scoped>\n",
              "    .dataframe tbody tr th:only-of-type {\n",
              "        vertical-align: middle;\n",
              "    }\n",
              "\n",
              "    .dataframe tbody tr th {\n",
              "        vertical-align: top;\n",
              "    }\n",
              "\n",
              "    .dataframe thead th {\n",
              "        text-align: right;\n",
              "    }\n",
              "</style>\n",
              "<table border=\"1\" class=\"dataframe\">\n",
              "  <thead>\n",
              "    <tr style=\"text-align: right;\">\n",
              "      <th></th>\n",
              "      <th>pickup_community_area</th>\n",
              "      <th>fare</th>\n",
              "      <th>trip_start_month</th>\n",
              "      <th>trip_start_hour</th>\n",
              "      <th>trip_start_day</th>\n",
              "      <th>trip_start_timestamp</th>\n",
              "      <th>pickup_latitude</th>\n",
              "      <th>pickup_longitude</th>\n",
              "      <th>dropoff_latitude</th>\n",
              "      <th>dropoff_longitude</th>\n",
              "      <th>trip_miles</th>\n",
              "      <th>pickup_census_tract</th>\n",
              "      <th>dropoff_census_tract</th>\n",
              "      <th>payment_type</th>\n",
              "      <th>company</th>\n",
              "      <th>trip_seconds</th>\n",
              "      <th>dropoff_community_area</th>\n",
              "      <th>tips</th>\n",
              "    </tr>\n",
              "  </thead>\n",
              "  <tbody>\n",
              "    <tr>\n",
              "      <th>0</th>\n",
              "      <td>22</td>\n",
              "      <td>12.85</td>\n",
              "      <td>3</td>\n",
              "      <td>11</td>\n",
              "      <td>7</td>\n",
              "      <td>1393673400</td>\n",
              "      <td>41.920452</td>\n",
              "      <td>-87.679955</td>\n",
              "      <td>41.877406</td>\n",
              "      <td>-87.621972</td>\n",
              "      <td>0.0</td>\n",
              "      <td>NaN</td>\n",
              "      <td>1.703132e+10</td>\n",
              "      <td>Cash</td>\n",
              "      <td>Taxi Affiliation Services</td>\n",
              "      <td>720</td>\n",
              "      <td>32.0</td>\n",
              "      <td>0.0</td>\n",
              "    </tr>\n",
              "    <tr>\n",
              "      <th>1</th>\n",
              "      <td>22</td>\n",
              "      <td>5.45</td>\n",
              "      <td>8</td>\n",
              "      <td>21</td>\n",
              "      <td>7</td>\n",
              "      <td>1439675100</td>\n",
              "      <td>41.920452</td>\n",
              "      <td>-87.679955</td>\n",
              "      <td>41.906771</td>\n",
              "      <td>-87.681025</td>\n",
              "      <td>1.2</td>\n",
              "      <td>NaN</td>\n",
              "      <td>1.703124e+10</td>\n",
              "      <td>Cash</td>\n",
              "      <td>Dispatch Taxi Affiliation</td>\n",
              "      <td>360</td>\n",
              "      <td>24.0</td>\n",
              "      <td>0.0</td>\n",
              "    </tr>\n",
              "    <tr>\n",
              "      <th>2</th>\n",
              "      <td>33</td>\n",
              "      <td>0.00</td>\n",
              "      <td>5</td>\n",
              "      <td>10</td>\n",
              "      <td>4</td>\n",
              "      <td>1432118700</td>\n",
              "      <td>41.849247</td>\n",
              "      <td>-87.624135</td>\n",
              "      <td>41.849247</td>\n",
              "      <td>-87.624135</td>\n",
              "      <td>0.0</td>\n",
              "      <td>NaN</td>\n",
              "      <td>1.703184e+10</td>\n",
              "      <td>Cash</td>\n",
              "      <td>Northwest Management LLC</td>\n",
              "      <td>0</td>\n",
              "      <td>33.0</td>\n",
              "      <td>0.0</td>\n",
              "    </tr>\n",
              "    <tr>\n",
              "      <th>3</th>\n",
              "      <td>33</td>\n",
              "      <td>11.05</td>\n",
              "      <td>3</td>\n",
              "      <td>15</td>\n",
              "      <td>1</td>\n",
              "      <td>1427037300</td>\n",
              "      <td>41.849247</td>\n",
              "      <td>-87.624135</td>\n",
              "      <td>41.892508</td>\n",
              "      <td>-87.626215</td>\n",
              "      <td>0.0</td>\n",
              "      <td>NaN</td>\n",
              "      <td>1.703108e+10</td>\n",
              "      <td>Cash</td>\n",
              "      <td>Taxi Affiliation Services</td>\n",
              "      <td>900</td>\n",
              "      <td>8.0</td>\n",
              "      <td>0.0</td>\n",
              "    </tr>\n",
              "    <tr>\n",
              "      <th>4</th>\n",
              "      <td>33</td>\n",
              "      <td>11.05</td>\n",
              "      <td>5</td>\n",
              "      <td>15</td>\n",
              "      <td>6</td>\n",
              "      <td>1401464700</td>\n",
              "      <td>41.849247</td>\n",
              "      <td>-87.624135</td>\n",
              "      <td>41.892508</td>\n",
              "      <td>-87.626215</td>\n",
              "      <td>3.2</td>\n",
              "      <td>NaN</td>\n",
              "      <td>1.703108e+10</td>\n",
              "      <td>Cash</td>\n",
              "      <td>NaN</td>\n",
              "      <td>960</td>\n",
              "      <td>8.0</td>\n",
              "      <td>0.0</td>\n",
              "    </tr>\n",
              "    <tr>\n",
              "      <th>...</th>\n",
              "      <td>...</td>\n",
              "      <td>...</td>\n",
              "      <td>...</td>\n",
              "      <td>...</td>\n",
              "      <td>...</td>\n",
              "      <td>...</td>\n",
              "      <td>...</td>\n",
              "      <td>...</td>\n",
              "      <td>...</td>\n",
              "      <td>...</td>\n",
              "      <td>...</td>\n",
              "      <td>...</td>\n",
              "      <td>...</td>\n",
              "      <td>...</td>\n",
              "      <td>...</td>\n",
              "      <td>...</td>\n",
              "      <td>...</td>\n",
              "      <td>...</td>\n",
              "    </tr>\n",
              "    <tr>\n",
              "      <th>9995</th>\n",
              "      <td>8</td>\n",
              "      <td>3.25</td>\n",
              "      <td>5</td>\n",
              "      <td>11</td>\n",
              "      <td>5</td>\n",
              "      <td>1431602100</td>\n",
              "      <td>41.904935</td>\n",
              "      <td>-87.649907</td>\n",
              "      <td>41.904935</td>\n",
              "      <td>-87.649907</td>\n",
              "      <td>0.0</td>\n",
              "      <td>NaN</td>\n",
              "      <td>1.703184e+10</td>\n",
              "      <td>Cash</td>\n",
              "      <td>Taxi Affiliation Services</td>\n",
              "      <td>60</td>\n",
              "      <td>8.0</td>\n",
              "      <td>0.0</td>\n",
              "    </tr>\n",
              "    <tr>\n",
              "      <th>9996</th>\n",
              "      <td>8</td>\n",
              "      <td>3.25</td>\n",
              "      <td>11</td>\n",
              "      <td>16</td>\n",
              "      <td>4</td>\n",
              "      <td>1385568900</td>\n",
              "      <td>41.904935</td>\n",
              "      <td>-87.649907</td>\n",
              "      <td>41.904935</td>\n",
              "      <td>-87.649907</td>\n",
              "      <td>0.0</td>\n",
              "      <td>NaN</td>\n",
              "      <td>1.703184e+10</td>\n",
              "      <td>Cash</td>\n",
              "      <td>Taxi Affiliation Services</td>\n",
              "      <td>0</td>\n",
              "      <td>8.0</td>\n",
              "      <td>0.0</td>\n",
              "    </tr>\n",
              "    <tr>\n",
              "      <th>9997</th>\n",
              "      <td>8</td>\n",
              "      <td>4.25</td>\n",
              "      <td>12</td>\n",
              "      <td>13</td>\n",
              "      <td>3</td>\n",
              "      <td>1449579600</td>\n",
              "      <td>41.904935</td>\n",
              "      <td>-87.649907</td>\n",
              "      <td>41.904935</td>\n",
              "      <td>-87.649907</td>\n",
              "      <td>0.3</td>\n",
              "      <td>NaN</td>\n",
              "      <td>1.703184e+10</td>\n",
              "      <td>Cash</td>\n",
              "      <td>NaN</td>\n",
              "      <td>180</td>\n",
              "      <td>8.0</td>\n",
              "      <td>0.0</td>\n",
              "    </tr>\n",
              "    <tr>\n",
              "      <th>9998</th>\n",
              "      <td>61</td>\n",
              "      <td>9.85</td>\n",
              "      <td>9</td>\n",
              "      <td>15</td>\n",
              "      <td>6</td>\n",
              "      <td>1410534000</td>\n",
              "      <td>41.809018</td>\n",
              "      <td>-87.659167</td>\n",
              "      <td>41.829922</td>\n",
              "      <td>-87.672503</td>\n",
              "      <td>3.0</td>\n",
              "      <td>NaN</td>\n",
              "      <td>NaN</td>\n",
              "      <td>Cash</td>\n",
              "      <td>Taxi Affiliation Services</td>\n",
              "      <td>780</td>\n",
              "      <td>59.0</td>\n",
              "      <td>0.0</td>\n",
              "    </tr>\n",
              "    <tr>\n",
              "      <th>9999</th>\n",
              "      <td>61</td>\n",
              "      <td>5.65</td>\n",
              "      <td>4</td>\n",
              "      <td>14</td>\n",
              "      <td>6</td>\n",
              "      <td>1398436200</td>\n",
              "      <td>41.809018</td>\n",
              "      <td>-87.659167</td>\n",
              "      <td>41.817366</td>\n",
              "      <td>-87.698861</td>\n",
              "      <td>1.0</td>\n",
              "      <td>NaN</td>\n",
              "      <td>NaN</td>\n",
              "      <td>Cash</td>\n",
              "      <td>Taxi Affiliation Services</td>\n",
              "      <td>300</td>\n",
              "      <td>58.0</td>\n",
              "      <td>0.0</td>\n",
              "    </tr>\n",
              "  </tbody>\n",
              "</table>\n",
              "<p>10000 rows × 18 columns</p>\n",
              "</div>"
            ],
            "text/plain": [
              "      pickup_community_area   fare  ...  dropoff_community_area  tips\n",
              "0                        22  12.85  ...                    32.0   0.0\n",
              "1                        22   5.45  ...                    24.0   0.0\n",
              "2                        33   0.00  ...                    33.0   0.0\n",
              "3                        33  11.05  ...                     8.0   0.0\n",
              "4                        33  11.05  ...                     8.0   0.0\n",
              "...                     ...    ...  ...                     ...   ...\n",
              "9995                      8   3.25  ...                     8.0   0.0\n",
              "9996                      8   3.25  ...                     8.0   0.0\n",
              "9997                      8   4.25  ...                     8.0   0.0\n",
              "9998                     61   9.85  ...                    59.0   0.0\n",
              "9999                     61   5.65  ...                    58.0   0.0\n",
              "\n",
              "[10000 rows x 18 columns]"
            ]
          },
          "metadata": {
            "tags": []
          },
          "execution_count": 6
        }
      ]
    },
    {
      "cell_type": "code",
      "metadata": {
        "id": "jK2U5u3PRKmo",
        "colab_type": "code",
        "colab": {}
      },
      "source": [
        ""
      ],
      "execution_count": null,
      "outputs": []
    }
  ]
}