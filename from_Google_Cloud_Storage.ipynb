{
  "nbformat": 4,
  "nbformat_minor": 0,
  "metadata": {
    "colab": {
      "name": "from_Google_Cloud_Storage.ipynb",
      "provenance": [],
      "collapsed_sections": [],
      "toc_visible": true,
      "authorship_tag": "ABX9TyMmYZKhjTEGZAMo+lGZOcQ2",
      "include_colab_link": true
    },
    "kernelspec": {
      "name": "python3",
      "display_name": "Python 3"
    }
  },
  "cells": [
    {
      "cell_type": "markdown",
      "metadata": {
        "id": "view-in-github",
        "colab_type": "text"
      },
      "source": [
        "<a href=\"https://colab.research.google.com/github/rtheman/Data_IO/blob/master/from_Google_Cloud_Storage.ipynb\" target=\"_parent\"><img src=\"https://colab.research.google.com/assets/colab-badge.svg\" alt=\"Open In Colab\"/></a>"
      ]
    },
    {
      "cell_type": "markdown",
      "metadata": {
        "id": "cRjx5YGZSXKm",
        "colab_type": "text"
      },
      "source": [
        "# Objective\n",
        "\n",
        "This notebook provide receipes for loading/extracting data into this Juypter Notebook (Google Colab), in this case, from **Google Cloud Storage (GCS)**.\n",
        "\n",
        "There are 2-ways to connect:\n",
        "1. gsutil\n",
        "1. Python API"
      ]
    },
    {
      "cell_type": "markdown",
      "metadata": {
        "id": "ZEvelsx3Sx46",
        "colab_type": "text"
      },
      "source": [
        "# Init. settings and libraries"
      ]
    },
    {
      "cell_type": "code",
      "metadata": {
        "id": "C1aj8LEWSOvE",
        "colab_type": "code",
        "colab": {}
      },
      "source": [
        "project_id = 'rleung-sandbox'\n",
        "bucket_name = 'samples_data'\n",
        "\n",
        "file_name = 'COVID_Active_Cases_USA_NY.csv'\n",
        "\n",
        "local_path = \"/content/sample_data/\""
      ],
      "execution_count": 1,
      "outputs": []
    },
    {
      "cell_type": "markdown",
      "metadata": {
        "id": "pBjBKs0hUByU",
        "colab_type": "text"
      },
      "source": [
        "Authenticate to GCS..."
      ]
    },
    {
      "cell_type": "code",
      "metadata": {
        "id": "SsqnhTsATzO4",
        "colab_type": "code",
        "colab": {}
      },
      "source": [
        "from google.colab import auth\n",
        "auth.authenticate_user()"
      ],
      "execution_count": 2,
      "outputs": []
    },
    {
      "cell_type": "markdown",
      "metadata": {
        "id": "bhh7HYD6Vyvg",
        "colab_type": "text"
      },
      "source": [
        "# 1.) Ingest Data"
      ]
    },
    {
      "cell_type": "markdown",
      "metadata": {
        "id": "Wlvfhu4BUVLq",
        "colab_type": "text"
      },
      "source": [
        "## a.) via `gsutil`\n",
        "\n",
        "First, we configure `gsutil` to use the project we specified above by using `gcloud`."
      ]
    },
    {
      "cell_type": "code",
      "metadata": {
        "id": "GlWI00dpUHc8",
        "colab_type": "code",
        "colab": {
          "base_uri": "https://localhost:8080/",
          "height": 33
        },
        "outputId": "2a887f01-b7c1-4843-e238-ec0ab828176f"
      },
      "source": [
        "!gcloud config set project {project_id}"
      ],
      "execution_count": 3,
      "outputs": [
        {
          "output_type": "stream",
          "text": [
            "Updated property [core/project].\n"
          ],
          "name": "stdout"
        }
      ]
    },
    {
      "cell_type": "markdown",
      "metadata": {
        "id": "yoGL433tUo6e",
        "colab_type": "text"
      },
      "source": [
        "Download file from GCS using `gsutil cp` command"
      ]
    },
    {
      "cell_type": "code",
      "metadata": {
        "id": "qq7NtoouUi-F",
        "colab_type": "code",
        "colab": {
          "base_uri": "https://localhost:8080/",
          "height": 66
        },
        "outputId": "5c602868-734d-44a6-b7fc-5e5566f198a8"
      },
      "source": [
        "!gsutil cp gs://{bucket_name}/{file_name} {local_path}/{file_name}\n",
        "  \n",
        "# Print the result to make sure the transfer worked.\n",
        "# !cat /content/sample_data/{file_name}"
      ],
      "execution_count": 4,
      "outputs": [
        {
          "output_type": "stream",
          "text": [
            "Copying gs://samples_data/COVID_Active_Cases_USA_NY.csv...\n",
            "/ [1 files][  1.9 KiB/  1.9 KiB]                                                \n",
            "Operation completed over 1 objects/1.9 KiB.                                      \n"
          ],
          "name": "stdout"
        }
      ]
    },
    {
      "cell_type": "markdown",
      "metadata": {
        "id": "JD7ecr_NWAH8",
        "colab_type": "text"
      },
      "source": [
        "## b.) via Python API\n",
        "\n",
        "These snippets based on [a larger example](https://github.com/GoogleCloudPlatform/storage-file-transfer-json-python/blob/master/chunked_transfer.py) that shows additional uses of the API.\n",
        "\n",
        " First, we create the service client."
      ]
    },
    {
      "cell_type": "code",
      "metadata": {
        "id": "XkGyWpM2Ut25",
        "colab_type": "code",
        "colab": {}
      },
      "source": [
        "from googleapiclient.discovery import build\n",
        "gcs_service = build('storage', 'v1')"
      ],
      "execution_count": null,
      "outputs": []
    },
    {
      "cell_type": "markdown",
      "metadata": {
        "id": "H_a1qKj5bejq",
        "colab_type": "text"
      },
      "source": [
        "Download the file from GCS using `apiclient.http` library."
      ]
    },
    {
      "cell_type": "code",
      "metadata": {
        "id": "A3XPDICiX6Xp",
        "colab_type": "code",
        "colab": {
          "base_uri": "https://localhost:8080/",
          "height": 33
        },
        "outputId": "4546af97-aae6-46df-bc20-6e52c00aec2f"
      },
      "source": [
        "from apiclient.http import MediaIoBaseDownload\n",
        "\n",
        "with open('/content/sample_data/COVID_Active_Cases_USA_NY.csv', 'wb') as f:\n",
        "  request = gcs_service.objects().get_media(bucket=bucket_name,\n",
        "                                            object=file_name)\n",
        "  media = MediaIoBaseDownload(f, request)\n",
        "\n",
        "  done = False\n",
        "  while not done:\n",
        "    # _ is a placeholder for a progress object that we ignore.\n",
        "    # (Our file is small, so we skip reporting progress.)\n",
        "    _, done = media.next_chunk()\n",
        "\n",
        "print('Download complete')"
      ],
      "execution_count": null,
      "outputs": [
        {
          "output_type": "stream",
          "text": [
            "Download complete\n"
          ],
          "name": "stdout"
        }
      ]
    },
    {
      "cell_type": "markdown",
      "metadata": {
        "id": "ht7vEJDxb1hA",
        "colab_type": "text"
      },
      "source": [
        "# 2.) Transform D/L data as Dataframe"
      ]
    },
    {
      "cell_type": "code",
      "metadata": {
        "id": "1ZRB8aAVcQBf",
        "colab_type": "code",
        "colab": {}
      },
      "source": [
        "import pandas as pd"
      ],
      "execution_count": 5,
      "outputs": []
    },
    {
      "cell_type": "code",
      "metadata": {
        "id": "iL8XgrmIbt5Y",
        "colab_type": "code",
        "colab": {
          "base_uri": "https://localhost:8080/",
          "height": 147
        },
        "outputId": "487b7831-a848-45ae-c64b-9dfd74a522df"
      },
      "source": [
        "path = local_path + file_name\n",
        "\n",
        "df = pd.read_csv(path, header=0, index_col=0)\n",
        "df.info()"
      ],
      "execution_count": 6,
      "outputs": [
        {
          "output_type": "stream",
          "text": [
            "<class 'pandas.core.frame.DataFrame'>\n",
            "Index: 101 entries, 2020-03-12 to 2020-06-20\n",
            "Data columns (total 1 columns):\n",
            " #   Column        Non-Null Count  Dtype\n",
            "---  ------        --------------  -----\n",
            " 0   Active_Cases  101 non-null    int64\n",
            "dtypes: int64(1)\n",
            "memory usage: 1.6+ KB\n"
          ],
          "name": "stdout"
        }
      ]
    },
    {
      "cell_type": "code",
      "metadata": {
        "id": "rnPwIWJ-cF_q",
        "colab_type": "code",
        "colab": {
          "base_uri": "https://localhost:8080/",
          "height": 50
        },
        "outputId": "ac59e3dc-9cbc-4be9-9c1b-12ae9e47a323"
      },
      "source": [
        "df.dtypes"
      ],
      "execution_count": 7,
      "outputs": [
        {
          "output_type": "execute_result",
          "data": {
            "text/plain": [
              "Active_Cases    int64\n",
              "dtype: object"
            ]
          },
          "metadata": {
            "tags": []
          },
          "execution_count": 7
        }
      ]
    },
    {
      "cell_type": "code",
      "metadata": {
        "id": "gZYVAv6mcVV-",
        "colab_type": "code",
        "colab": {
          "base_uri": "https://localhost:8080/",
          "height": 420
        },
        "outputId": "26c8ee15-e772-42d8-bc38-bf97a6023c7e"
      },
      "source": [
        "df"
      ],
      "execution_count": 8,
      "outputs": [
        {
          "output_type": "execute_result",
          "data": {
            "text/html": [
              "<div>\n",
              "<style scoped>\n",
              "    .dataframe tbody tr th:only-of-type {\n",
              "        vertical-align: middle;\n",
              "    }\n",
              "\n",
              "    .dataframe tbody tr th {\n",
              "        vertical-align: top;\n",
              "    }\n",
              "\n",
              "    .dataframe thead th {\n",
              "        text-align: right;\n",
              "    }\n",
              "</style>\n",
              "<table border=\"1\" class=\"dataframe\">\n",
              "  <thead>\n",
              "    <tr style=\"text-align: right;\">\n",
              "      <th></th>\n",
              "      <th>Active_Cases</th>\n",
              "    </tr>\n",
              "    <tr>\n",
              "      <th>Observ_Date</th>\n",
              "      <th></th>\n",
              "    </tr>\n",
              "  </thead>\n",
              "  <tbody>\n",
              "    <tr>\n",
              "      <th>2020-03-12</th>\n",
              "      <td>328</td>\n",
              "    </tr>\n",
              "    <tr>\n",
              "      <th>2020-03-13</th>\n",
              "      <td>421</td>\n",
              "    </tr>\n",
              "    <tr>\n",
              "      <th>2020-03-14</th>\n",
              "      <td>524</td>\n",
              "    </tr>\n",
              "    <tr>\n",
              "      <th>2020-03-15</th>\n",
              "      <td>729</td>\n",
              "    </tr>\n",
              "    <tr>\n",
              "      <th>2020-03-16</th>\n",
              "      <td>956</td>\n",
              "    </tr>\n",
              "    <tr>\n",
              "      <th>...</th>\n",
              "      <td>...</td>\n",
              "    </tr>\n",
              "    <tr>\n",
              "      <th>2020-06-16</th>\n",
              "      <td>288566</td>\n",
              "    </tr>\n",
              "    <tr>\n",
              "      <th>2020-06-17</th>\n",
              "      <td>288954</td>\n",
              "    </tr>\n",
              "    <tr>\n",
              "      <th>2020-06-18</th>\n",
              "      <td>290469</td>\n",
              "    </tr>\n",
              "    <tr>\n",
              "      <th>2020-06-19</th>\n",
              "      <td>291432</td>\n",
              "    </tr>\n",
              "    <tr>\n",
              "      <th>2020-06-20</th>\n",
              "      <td>292129</td>\n",
              "    </tr>\n",
              "  </tbody>\n",
              "</table>\n",
              "<p>101 rows × 1 columns</p>\n",
              "</div>"
            ],
            "text/plain": [
              "             Active_Cases\n",
              "Observ_Date              \n",
              "2020-03-12            328\n",
              "2020-03-13            421\n",
              "2020-03-14            524\n",
              "2020-03-15            729\n",
              "2020-03-16            956\n",
              "...                   ...\n",
              "2020-06-16         288566\n",
              "2020-06-17         288954\n",
              "2020-06-18         290469\n",
              "2020-06-19         291432\n",
              "2020-06-20         292129\n",
              "\n",
              "[101 rows x 1 columns]"
            ]
          },
          "metadata": {
            "tags": []
          },
          "execution_count": 8
        }
      ]
    },
    {
      "cell_type": "markdown",
      "metadata": {
        "id": "hSIUQw-iM0t4",
        "colab_type": "text"
      },
      "source": [
        "# REFERENCE\n",
        "\n",
        "*   Colab Notebook Examples (Google) https://colab.research.google.com/notebooks/io.ipynb#scrollTo=S7c8WYyQdh5i\n",
        "*   Google Storage Client Libraries https://cloud.google.com/storage/docs/reference/libraries#command-line"
      ]
    },
    {
      "cell_type": "code",
      "metadata": {
        "id": "WxOJP0uGNSFR",
        "colab_type": "code",
        "colab": {}
      },
      "source": [
        ""
      ],
      "execution_count": null,
      "outputs": []
    }
  ]
}